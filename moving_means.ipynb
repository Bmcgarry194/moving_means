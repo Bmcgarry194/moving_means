{
 "cells": [
  {
   "cell_type": "markdown",
   "metadata": {},
   "source": [
    "# Calculating Moving Averages"
   ]
  },
  {
   "cell_type": "code",
   "execution_count": null,
   "metadata": {},
   "outputs": [],
   "source": [
    "from typing import List, Dict\n",
    "\n",
    "Vector = List[int]"
   ]
  },
  {
   "cell_type": "code",
   "execution_count": null,
   "metadata": {},
   "outputs": [],
   "source": [
    "# load necessary data\n",
    "J = [4, 4, 4, 9, 10, 11, 12]\n",
    "p = 3"
   ]
  },
  {
   "cell_type": "code",
   "execution_count": null,
   "metadata": {},
   "outputs": [],
   "source": [
    "def create_sequences(J: Vector, p: int) -> List[List[int]]:\n",
    "    \"\"\"Splitting J into sequences of length p\"\"\"\n",
    "\n",
    "    output = []\n",
    "    for i, number in enumerate(J):\n",
    "        sequence = J[i:i + p]\n",
    "        if len(sequence) == p:\n",
    "            output.append(sequence)\n",
    "        else:\n",
    "            break\n",
    "    return output"
   ]
  },
  {
   "cell_type": "code",
   "execution_count": null,
   "metadata": {},
   "outputs": [],
   "source": [
    "def min_max_moving_avg(J: Vector, p: int) -> Dict[str, float]: \n",
    "    \"\"\"\n",
    "    Calculates the min and max average from a list of lists\n",
    "    \n",
    "    params:\n",
    "    *x = A list of lists of ints\n",
    "    \n",
    "    returns:\n",
    "    Dictionary of the min and max moving averages\n",
    "    \"\"\"\n",
    "    sequences = create_sequences(J, p)\n",
    "    \n",
    "    means = []\n",
    "    for seq in sequences:\n",
    "        means.append(sum(seq) / len(seq))\n",
    "\n",
    "    min_max = {}\n",
    "    min_max['min'] = min(means)\n",
    "    min_max['max'] = max(means)\n",
    "    \n",
    "    return min_max"
   ]
  },
  {
   "cell_type": "code",
   "execution_count": null,
   "metadata": {},
   "outputs": [],
   "source": [
    "min_max_moving_avg(J, p)"
   ]
  }
 ],
 "metadata": {
  "kernelspec": {
   "display_name": "Python 3",
   "language": "python",
   "name": "python3"
  },
  "language_info": {
   "codemirror_mode": {
    "name": "ipython",
    "version": 3
   },
   "file_extension": ".py",
   "mimetype": "text/x-python",
   "name": "python",
   "nbconvert_exporter": "python",
   "pygments_lexer": "ipython3",
   "version": "3.7.3"
  }
 },
 "nbformat": 4,
 "nbformat_minor": 4
}
